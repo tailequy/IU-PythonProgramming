{
 "cells": [
  {
   "cell_type": "markdown",
   "id": "3bcb0772-0629-4771-bb5c-401a360462be",
   "metadata": {},
   "source": [
    "# Programming with Python"
   ]
  },
  {
   "cell_type": "markdown",
   "id": "4fe452d9-807a-4845-aa7a-4ecbcb352f3a",
   "metadata": {},
   "source": [
    "### Scikit-Learn\n",
    "Scikit-Learn provides functions to support machine learning in Python. It includes algorithms for classification, regression, and clustering\n",
    "https://scikit-learn.org/stable/"
   ]
  },
  {
   "cell_type": "code",
   "execution_count": 1,
   "id": "b4a00f19-e79b-463b-9730-c7a7fb5ff1fe",
   "metadata": {},
   "outputs": [
    {
     "name": "stdout",
     "output_type": "stream",
     "text": [
      "              precision    recall  f1-score   support\n",
      "\n",
      "           0      1.000     1.000     1.000        21\n",
      "           1      0.750     0.778     0.764        27\n",
      "           2      0.769     0.741     0.755        27\n",
      "\n",
      "    accuracy                          0.827        75\n",
      "   macro avg      0.840     0.840     0.839        75\n",
      "weighted avg      0.827     0.827     0.827        75\n",
      "\n"
     ]
    }
   ],
   "source": [
    "#Using scikit-learn to do classification\n",
    "import pandas as pd\n",
    "from sklearn.model_selection import train_test_split\n",
    "from sklearn.linear_model import LogisticRegression\n",
    "from sklearn import metrics\n",
    "# Read csv from URL\n",
    "csv_url = \"https://archive.ics.uci.edu/ml/machine-learning-databases/iris/iris.data\"\n",
    "col_names =['Sepal_Length','Sepal_Width','Petal_Length','Petal_Width','Class']\n",
    "iris_dataframe = pd.read_csv(csv_url, names=col_names)\n",
    "# X = Measurements, Y = Classification\n",
    "X = iris_dataframe.iloc[:,:-1]\n",
    "Y = iris_dataframe.iloc[:,-1]\n",
    "# Converting into numpy array with sepal length and sepal width\n",
    "X = X.to_numpy()[:,(0,1)]\n",
    "Y = Y.replace({'Iris-setosa':0, 'Iris-versicolor':1, 'Iris-virginica':2})\n",
    "# Splitting into train and test sets\n",
    "X_train, X_test, y_train, Y_test = train_test_split(X,Y,test_size=0.5, random_state=42)\n",
    "# Run logistic regression\n",
    "log_reg = LogisticRegression()\n",
    "log_reg.fit(X,Y)\n",
    "# Testing the logistic regression model\n",
    "training_prediction = log_reg.predict(X_train)\n",
    "test_prediction = log_reg.predict(X_test)\n",
    "print(metrics.classification_report(y_train, training_prediction, digits=3))"
   ]
  },
  {
   "cell_type": "code",
   "execution_count": 3,
   "id": "79767d37",
   "metadata": {},
   "outputs": [],
   "source": [
    "#Implementing K-Means Clustering\n",
    "import matplotlib.pyplot as plt \n",
    "from sklearn.cluster import KMeans"
   ]
  },
  {
   "cell_type": "code",
   "execution_count": 5,
   "id": "ad8c9e40",
   "metadata": {},
   "outputs": [],
   "source": [
    "csv_url = \"https://archive.ics.uci.edu/ml/machine-learning-databases/iris/iris.data\"\n",
    "col_names =['Sepal_Length','Sepal_Width','Petal_Length','Petal_Width','Class']\n",
    "iris_dataframe = pd.read_csv(csv_url, names=col_names)\n",
    "X = iris_dataframe.iloc[:,:-1]\n",
    "kmeans = KMeans(n_clusters = 3, init = 'k-means++', max_iter = 300, n_init = 10, random_state = 0)\n",
    "y_kmeans = kmeans.fit_predict(X)"
   ]
  },
  {
   "cell_type": "code",
   "execution_count": 6,
   "id": "56e9e750",
   "metadata": {},
   "outputs": [
    {
     "data": {
      "text/plain": [
       "array([1, 1, 1, 1, 1, 1, 1, 1, 1, 1, 1, 1, 1, 1, 1, 1, 1, 1, 1, 1, 1, 1,\n",
       "       1, 1, 1, 1, 1, 1, 1, 1, 1, 1, 1, 1, 1, 1, 1, 1, 1, 1, 1, 1, 1, 1,\n",
       "       1, 1, 1, 1, 1, 1, 0, 0, 2, 0, 0, 0, 0, 0, 0, 0, 0, 0, 0, 0, 0, 0,\n",
       "       0, 0, 0, 0, 0, 0, 0, 0, 0, 0, 0, 2, 0, 0, 0, 0, 0, 0, 0, 0, 0, 0,\n",
       "       0, 0, 0, 0, 0, 0, 0, 0, 0, 0, 0, 0, 2, 0, 2, 2, 2, 2, 0, 2, 2, 2,\n",
       "       2, 2, 2, 0, 0, 2, 2, 2, 2, 0, 2, 0, 2, 0, 2, 2, 0, 0, 2, 2, 2, 2,\n",
       "       2, 0, 2, 2, 2, 2, 0, 2, 2, 2, 0, 2, 2, 2, 0, 2, 2, 0])"
      ]
     },
     "execution_count": 6,
     "metadata": {},
     "output_type": "execute_result"
    }
   ],
   "source": [
    "y_kmeans"
   ]
  },
  {
   "cell_type": "code",
   "execution_count": 13,
   "id": "9eabfcf5",
   "metadata": {},
   "outputs": [
    {
     "data": {
      "text/plain": [
       "<matplotlib.legend.Legend at 0x1cba0f4be48>"
      ]
     },
     "execution_count": 13,
     "metadata": {},
     "output_type": "execute_result"
    },
    {
     "data": {
      "image/png": "[encoded data removed]",
      "text/plain": [
       "<Figure size 432x288 with 1 Axes>"
      ]
     },
     "metadata": {
      "needs_background": "light"
     },
     "output_type": "display_data"
    }
   ],
   "source": [
    "cols = iris_dataframe.columns \n",
    "plt.scatter(X.loc[y_kmeans == 0, cols[0]], \n",
    "            X.loc[y_kmeans == 0, cols[1]], \n",
    "            s=100, c='purple', \n",
    "            label='Iris-setosa') \n",
    "plt.scatter(X.loc[y_kmeans == 1, cols[0]], \n",
    "            X.loc[y_kmeans == 1, cols[1]], \n",
    "            s=100, c='orange', \n",
    "            label='Iris-versicolour') \n",
    "plt.scatter(X.loc[y_kmeans == 2, cols[0]], \n",
    "            X.loc[y_kmeans == 2, cols[1]], \n",
    "            s=100, c='green', \n",
    "            label='Iris-virginica') \n",
    "  \n",
    "# Plotting the centroids of the clusters \n",
    "plt.scatter(kmeans.cluster_centers_[:, 0], \n",
    "            kmeans.cluster_centers_[:, 1], \n",
    "            s=100, c='red', \n",
    "            label='Centroids') \n",
    "  \n",
    "plt.legend() "
   ]
  },
  {
   "cell_type": "code",
   "execution_count": null,
   "id": "7e4d6be2",
   "metadata": {},
   "outputs": [],
   "source": []
  }
 ],
 "metadata": {
  "kernelspec": {
   "display_name": "Python 3",
   "language": "python",
   "name": "python3"
  },
  "language_info": {
   "codemirror_mode": {
    "name": "ipython",
    "version": 3
   },
   "file_extension": ".py",
   "mimetype": "text/x-python",
   "name": "python",
   "nbconvert_exporter": "python",
   "pygments_lexer": "ipython3",
   "version": "3.7.9"
  }
 },
 "nbformat": 4,
 "nbformat_minor": 5
}
